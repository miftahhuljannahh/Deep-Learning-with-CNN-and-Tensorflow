{
  "cells": [
    {
      "cell_type": "code",
      "execution_count": null,
      "metadata": {
        "colab": {
          "background_save": true,
          "base_uri": "https://localhost:8080/"
        },
        "id": "eh51eyNTymEr",
        "outputId": "4d4099ef-3c24-4fbb-8ccd-7ec40b3a9c86"
      },
      "outputs": [],
      "source": [
        "!pip install flask-ngrok\n",
        "!pip install flask\n",
        "!pip install gevent\n",
        "!pip install keras\n",
        "!pip install tensorflow"
      ]
    },
    {
      "cell_type": "code",
      "execution_count": null,
      "metadata": {
        "id": "Fv8lvMjVy9dK"
      },
      "outputs": [],
      "source": [
        "from __future__ import division, print_function\n",
        "#coding=utf-8\n",
        "import sys\n",
        "import os\n",
        "import glob\n",
        "import re\n",
        "import numpy as np\n",
        "\n",
        "#keras\n",
        "from keras.applications.imagenet_utils import preprocess_input, decode_predictions\n",
        "from keras.models import load_model\n",
        "from keras.preprocessing import image\n",
        "\n",
        "#flask utils\n",
        "from flask import Flask, redirect, url_for, request, render_template\n",
        "from werkzeug.utils import secure_filename\n",
        "from gevent.pywsgi import WSGIServer"
      ]
    },
    {
      "cell_type": "code",
      "execution_count": null,
      "metadata": {
        "id": "VjNz5CT53C0z"
      },
      "outputs": [],
      "source": [
        "!pip install pandas"
      ]
    },
    {
      "cell_type": "code",
      "execution_count": null,
      "metadata": {
        "id": "2azHVhaL3Gw-"
      },
      "outputs": [],
      "source": [
        "import flask\n",
        "from flask import request\n",
        "import pandas as pd\n",
        "import tensorflow as tf\n",
        "import keras\n",
        "import numpy as np\n",
        "import random\n",
        "import os\n",
        "from os.path import join, dirname, realpath\n",
        "from tensorflow.keras.preprocessing.image import img_to_array, load_img\n",
        "from flask_ngrok import run_with_ngrok\n",
        "from werkzeug.utils import secure_filename\n"
      ]
    },
    {
      "cell_type": "code",
      "execution_count": null,
      "metadata": {
        "id": "s9QQZkLV32wx"
      },
      "outputs": [],
      "source": [
        "app = Flask(__name__)\n",
        "\n",
        "model = tf.keras.models.load_model('DatasetRinggitMalaysia.h5')\n",
        "run_with_ngrok (app)"
      ]
    },
    {
      "cell_type": "code",
      "execution_count": null,
      "metadata": {
        "id": "m8eBU_hk47l_"
      },
      "outputs": [],
      "source": [
        "%pip install pillow"
      ]
    },
    {
      "cell_type": "code",
      "execution_count": null,
      "metadata": {
        "id": "hS4akCqu7wq3"
      },
      "outputs": [],
      "source": [
        "@app.route('/', methods=['GET'])\n",
        "def index():\n",
        "   return \"<h1>Hello World</h1>\"\n",
        "@app.route('/predict', methods=['GET', 'POST'])\n",
        "def upload():\n",
        "  data={\"success\":False}\n",
        "  namafile=''\n",
        "  if request.method == 'POST':\n",
        "     file = request.files['file']\n",
        "    \n",
        "     if file.filename == '':\n",
        "           data[\"file\"]=\"Tidak ada file\"\n",
        "     else:\n",
        "           data[\"file\"]=\"File berhasil di simpan\"\n",
        "           filename = secure_filename(file.filename)\n",
        "           file.save('data_test/'+file.filename)\n",
        "           namafile='data_test/'+file.filename\n",
        "     img = load_img(namafile, target_size=(150, 150)) \n",
        "\n",
        "     x  = img_to_array(img)\n",
        "     x  = x.reshape((1,) + x.shape)\n",
        "     x /= 255.0\n",
        "     predict=model.predict(x)\n",
        "     temp=0\n",
        "     label=0\n",
        "     hasil=[]\n",
        "     for y in range(3):\n",
        "       presentase=predict[0][y]*100\n",
        "       hasil.append(predict[0][y]*100)\n",
        "       if presentase>temp:\n",
        "         temp=presentase\n",
        "         label=y\n",
        "       data[\"success\"]=True\n",
        "       data[\"label\"]=label\n",
        "     print(data)\n",
        "     return flask.jsonify(data)\n",
        "  else:\n",
        "     return \"<h1>Method salah</h1>\"\n",
        "app.run()"
      ]
    }
  ],
  "metadata": {
    "colab": {
      "provenance": []
    },
    "kernelspec": {
      "display_name": "Python 3",
      "language": "python",
      "name": "python3"
    },
    "language_info": {
      "codemirror_mode": {
        "name": "ipython",
        "version": 3
      },
      "file_extension": ".py",
      "mimetype": "text/x-python",
      "name": "python",
      "nbconvert_exporter": "python",
      "pygments_lexer": "ipython3",
      "version": "3.8.5 (tags/v3.8.5:580fbb0, Jul 20 2020, 15:57:54) [MSC v.1924 64 bit (AMD64)]"
    },
    "vscode": {
      "interpreter": {
        "hash": "8a5edab282632443219e051e4ade2d1d5bbc671c781051bf1437897cbdfea0f1"
      }
    }
  },
  "nbformat": 4,
  "nbformat_minor": 0
}
